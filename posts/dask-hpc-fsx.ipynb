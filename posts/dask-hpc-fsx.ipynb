{
 "cells": [
  {
   "cell_type": "code",
   "execution_count": null,
   "metadata": {},
   "outputs": [],
   "source": [
    "%matplotlib inline\n",
    "import xarray as xr\n",
    "import matplotlib.pyplot as plt\n",
    "import cartopy.crs as ccrs\n",
    "\n",
    "import dask\n",
    "from dask_jobqueue import SLURMCluster\n",
    "from distributed import Client, progress"
   ]
  }
 ],
 "metadata": {
  "kernelspec": {
   "display_name": "Python 3",
   "language": "python",
   "name": "python3"
  },
  "language_info": {
   "codemirror_mode": {
    "name": "ipython",
    "version": 3
   },
   "file_extension": ".py",
   "mimetype": "text/x-python",
   "name": "python",
   "nbconvert_exporter": "python",
   "pygments_lexer": "ipython3",
   "version": "3.6.6"
  },
  "nikola": {
   "category": "",
   "date": "2019-03-05 14:57:52 UTC-05:00",
   "description": "",
   "link": "",
   "slug": "dask-hpc-fsx",
   "tags": "AWS, Cloud, HPC, I/O, Dask, Xarray, Jupyter, Visualization, Earth data",
   "title": "[Notebook] Dask and Xarray on AWS-HPC cluster: distributed processing of Earth data",
   "type": "text"
  }
 },
 "nbformat": 4,
 "nbformat_minor": 2
}
